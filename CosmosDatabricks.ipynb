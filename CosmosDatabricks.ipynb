{
 "cells": [
  {
   "cell_type": "markdown",
   "id": "round-switzerland",
   "metadata": {},
   "source": [
    "### Create the database and collection using the Catalog API"
   ]
  },
  {
   "cell_type": "code",
   "execution_count": null,
   "id": "assumed-trigger",
   "metadata": {},
   "outputs": [],
   "source": [
    "cosmosEndpoint = \"https://REPLACEME.documents.azure.com:443/\"\n",
    "cosmosMasterKey = \"REPLACEME\"\n",
    "cosmosDatabaseName = \"sampleDB\"\n",
    "cosmosContainerName = \"sampleContainer\"\n",
    "\n",
    "spark.conf.set(\"spark.sql.catalog.cosmosCatalog\", \"com.azure.cosmos.spark.CosmosCatalog\")\n",
    "spark.conf.set(\"spark.sql.catalog.cosmosCatalog.spark.cosmos.accountEndpoint\", cosmosEndpoint)\n",
    "spark.conf.set(\"spark.sql.catalog.cosmosCatalog.spark.cosmos.accountKey\", cosmosMasterKey)\n",
    "\n",
    "spark.sql(\"CREATE DATABASE IF NOT EXISTS cosmosCatalog.{};\".format(cosmosDatabaseName))\n",
    "spark.sql(\"CREATE TABLE IF NOT EXISTS cosmosCatalog.{}.{} using cosmos.items TBLPROPERTIES(partitionKeyPath = '/id', manualThroughput = '1100')\".format(cosmosDatabaseName, cosmosContainerName))\n",
    "\n"
   ]
  },
  {
   "cell_type": "markdown",
   "id": "thirty-connecticut",
   "metadata": {},
   "source": [
    "### Ingesting the data"
   ]
  },
  {
   "cell_type": "code",
   "execution_count": null,
   "id": "spectacular-thomson",
   "metadata": {},
   "outputs": [],
   "source": [
    "#Set the write configuration\n",
    "writeCfg = {\n",
    "  \"spark.cosmos.accountEndpoint\": cosmosEndpoint,\n",
    "  \"spark.cosmos.accountKey\": cosmosMasterKey,\n",
    "  \"spark.cosmos.database\": cosmosDatabaseName,\n",
    "  \"spark.cosmos.container\": cosmosContainerName,\n",
    "  \"spark.cosmos.write.strategy\": \"ItemOverwrite\",\n",
    "}\n",
    "\n",
    "#ingest the data\n",
    "df\\\n",
    "   .toDF(\"date\",\"hour\",\"birth_year\",\"sex\",\"province\",\"city\",\"id\")\\\n",
    "   .write\\\n",
    "   .format(\"cosmos.items\")\\\n",
    "   .options(**writeCfg)\\\n",
    "   .mode(\"APPEND\")\\\n",
    "   .save()\n"
   ]
  },
  {
   "cell_type": "markdown",
   "id": "fluid-female",
   "metadata": {},
   "source": [
    "### Reading the data"
   ]
  },
  {
   "cell_type": "code",
   "execution_count": null,
   "id": "posted-shopping",
   "metadata": {},
   "outputs": [],
   "source": [
    "#Set the read configuration\n",
    "readCfg = {\n",
    "  \"spark.cosmos.accountEndpoint\": cosmosEndpoint,\n",
    "  \"spark.cosmos.accountKey\": cosmosMasterKey,\n",
    "  \"spark.cosmos.database\": cosmosDatabaseName,\n",
    "  \"spark.cosmos.container\": cosmosContainerName,\n",
    "  \"spark.cosmos.partitioning.strategy\": \"Restrictive\",\n",
    "  \"spark.cosmos.read.inferSchemaEnabled\" : \"false\"\n",
    "}\n",
    "\n",
    "#Read the data into a Spark dataframe and print the count\n",
    "query_df = spark.read.format(\"cosmos.items\").options(**readCfg).load()\n",
    "print(query_df.count())\n"
   ]
  }
 ],
 "metadata": {
  "kernelspec": {
   "display_name": "Python 3",
   "language": "python",
   "name": "python3"
  },
  "language_info": {
   "codemirror_mode": {
    "name": "ipython",
    "version": 3
   },
   "file_extension": ".py",
   "mimetype": "text/x-python",
   "name": "python",
   "nbconvert_exporter": "python",
   "pygments_lexer": "ipython3",
   "version": "3.8.5"
  }
 },
 "nbformat": 4,
 "nbformat_minor": 5
}
